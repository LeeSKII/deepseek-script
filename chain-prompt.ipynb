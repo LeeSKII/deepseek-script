{
 "cells": [
  {
   "cell_type": "code",
   "execution_count": 29,
   "metadata": {},
   "outputs": [
    {
     "data": {
      "text/plain": [
       "True"
      ]
     },
     "execution_count": 29,
     "metadata": {},
     "output_type": "execute_result"
    }
   ],
   "source": [
    "import os\n",
    "from dotenv import load_dotenv\n",
    "from openai import OpenAI\n",
    "from typing import List, Dict, Callable\n",
    "import pprint\n",
    "\n",
    "load_dotenv()"
   ]
  },
  {
   "cell_type": "code",
   "execution_count": 30,
   "metadata": {},
   "outputs": [
    {
     "data": {
      "text/plain": [
       "'sk-8abac7e92a274dbd8a60201414d73b14'"
      ]
     },
     "execution_count": 30,
     "metadata": {},
     "output_type": "execute_result"
    }
   ],
   "source": [
    "api_key = os.getenv('DEEPSEEK_API_KEY')\n",
    "api_key"
   ]
  },
  {
   "cell_type": "code",
   "execution_count": 51,
   "metadata": {},
   "outputs": [],
   "source": [
    "data_processing_steps = [\n",
    "    \"\"\"Extract only the numerical values and their associated metrics from the text.\n",
    "    Format each as 'value: metric' on a new line.\n",
    "    Notice if exist multiple metics in text, extract those metrics separately and give each value and appropriate metric name, don't miss any value or metric,e.g if text contains 'Sales increased from 8% to 92%' extract '8' and '92' and give them different metric names.\n",
    "    Example format:\n",
    "    92: customer satisfaction\n",
    "    45%: revenue growth\"\"\",\n",
    "    \n",
    "    \"\"\"Convert all numerical values to percentages where possible.\n",
    "    If not a percentage or points, convert to decimal (e.g., 92 points -> 92%).\n",
    "    Keep one number per line.\n",
    "    Example format:\n",
    "    92%: customer satisfaction\n",
    "    45%: revenue growth\"\"\",\n",
    "    \n",
    "    \"\"\"Sort all lines in descending order by numerical value.\n",
    "    Keep the format 'value: metric' on each line.\n",
    "    Example:\n",
    "    92%: customer satisfaction\n",
    "    87%: employee satisfaction\"\"\",\n",
    "    \n",
    "    \"\"\"Format the sorted data as a markdown table with columns:\n",
    "    | Metric | Value |\n",
    "    |:--|--:|\n",
    "    | Customer Satisfaction | 92% |\"\"\"\n",
    "]\n",
    "\n",
    "report = \"\"\"\n",
    "Q3 Performance Summary:\n",
    "Our customer satisfaction score rose to 92 points this quarter.\n",
    "Revenue grew by 45% compared to last year.\n",
    "Market share is now at 23% in our primary market.\n",
    "Customer churn decreased to 5% from 8%.\n",
    "New user acquisition cost is $43 per user.\n",
    "Product adoption rate increased to 78%.\n",
    "Employee satisfaction is at 87 points.\n",
    "Operating margin improved to 34%.\n",
    "\"\"\""
   ]
  },
  {
   "cell_type": "code",
   "execution_count": 32,
   "metadata": {},
   "outputs": [],
   "source": [
    "def llm_call(prompt: str, system_prompt: str = \"\", model=\"deepseek-chat\"):\n",
    "    messages = [{'role':'system','content': system_prompt},{\"role\": \"user\", \"content\": prompt}]\n",
    "    client = OpenAI(api_key=api_key,base_url=\"https://api.deepseek.com\")\n",
    "    response = client.chat.completions.create(\n",
    "        model=\"deepseek-chat\",\n",
    "        messages=messages,\n",
    "        temperature=0.1,\n",
    "    )\n",
    "    return  response.choices[0].message"
   ]
  },
  {
   "cell_type": "code",
   "execution_count": 33,
   "metadata": {},
   "outputs": [],
   "source": [
    "def chain(input: str, prompts: List[str]) -> str:\n",
    "    \"\"\"Chain multiple LLM calls sequentially, passing results between steps.\"\"\"\n",
    "    result = input\n",
    "    for i, prompt in enumerate(prompts, 1):\n",
    "        print(f\"\\nStep {i}:\")\n",
    "        result = llm_call(f\"{prompt}\\nInput: {result}\")\n",
    "        print(result)\n",
    "    return result"
   ]
  },
  {
   "cell_type": "code",
   "execution_count": 49,
   "metadata": {},
   "outputs": [
    {
     "name": "stdout",
     "output_type": "stream",
     "text": [
      "('92: customer satisfaction score  \\n'\n",
      " '45%: revenue growth  \\n'\n",
      " '23%: market share  \\n'\n",
      " '5%: customer churn  \\n'\n",
      " '8%: previous customer churn  \\n'\n",
      " '$43: new user acquisition cost  \\n'\n",
      " '78%: product adoption rate  \\n'\n",
      " '87: employee satisfaction  \\n'\n",
      " '34%: operating margin')\n"
     ]
    }
   ],
   "source": [
    "exact_prompt = '''\n",
    "Extract only the numerical values and their associated metrics from the text.\n",
    "    Format each as 'value: metric' on a new line.\n",
    "    Notice if exist multiple metics in text, extract those metrics separately and give each value and appropriate metric name, don't miss any value or metric,e.g if text contains 'Sales increased from 8% to 92%' extract '8' and '92' and give them different metric names.\n",
    "    Example format:\n",
    "    92: customer satisfaction\n",
    "    45%: revenue growth\n",
    "'''\n",
    "\n",
    "response = llm_call(report,exact_prompt)\n",
    "pprint.pprint(response.content)"
   ]
  },
  {
   "cell_type": "code",
   "execution_count": 52,
   "metadata": {},
   "outputs": [
    {
     "name": "stdout",
     "output_type": "stream",
     "text": [
      "\n",
      "Step 1:\n",
      "ChatCompletionMessage(content='92: customer satisfaction score  \\n45%: revenue growth  \\n23%: market share  \\n5%: customer churn  \\n8%: previous customer churn  \\n$43: new user acquisition cost  \\n78%: product adoption rate  \\n87: employee satisfaction  \\n34%: operating margin', refusal=None, role='assistant', audio=None, function_call=None, tool_calls=None)\n",
      "\n",
      "Step 2:\n",
      "ChatCompletionMessage(content='92%: customer satisfaction score  \\n45%: revenue growth  \\n23%: market share  \\n5%: customer churn  \\n8%: previous customer churn  \\n$43: new user acquisition cost  \\n78%: product adoption rate  \\n87%: employee satisfaction  \\n34%: operating margin', refusal=None, role='assistant', audio=None, function_call=None, tool_calls=None)\n",
      "\n",
      "Step 3:\n",
      "ChatCompletionMessage(content=\"Here is the input sorted in descending order by numerical value, maintaining the format 'value: metric':\\n\\n```\\n92%: customer satisfaction score  \\n87%: employee satisfaction  \\n78%: product adoption rate  \\n45%: revenue growth  \\n34%: operating margin  \\n23%: market share  \\n8%: previous customer churn  \\n5%: customer churn  \\n$43: new user acquisition cost  \\n```\", refusal=None, role='assistant', audio=None, function_call=None, tool_calls=None)\n",
      "\n",
      "Step 4:\n",
      "ChatCompletionMessage(content='Here is the formatted data as a markdown table:\\n\\n| Metric                     | Value |\\n|:---------------------------|------:|\\n| Customer Satisfaction Score |   92% |\\n| Employee Satisfaction       |   87% |\\n| Product Adoption Rate       |   78% |\\n| Revenue Growth              |   45% |\\n| Operating Margin            |   34% |\\n| Market Share                |   23% |\\n| Previous Customer Churn     |    8% |\\n| Customer Churn              |    5% |\\n| New User Acquisition Cost   |   $43 |', refusal=None, role='assistant', audio=None, function_call=None, tool_calls=None)\n",
      "('Here is the formatted data as a markdown table:\\n'\n",
      " '\\n'\n",
      " '| Metric                     | Value |\\n'\n",
      " '|:---------------------------|------:|\\n'\n",
      " '| Customer Satisfaction Score |   92% |\\n'\n",
      " '| Employee Satisfaction       |   87% |\\n'\n",
      " '| Product Adoption Rate       |   78% |\\n'\n",
      " '| Revenue Growth              |   45% |\\n'\n",
      " '| Operating Margin            |   34% |\\n'\n",
      " '| Market Share                |   23% |\\n'\n",
      " '| Previous Customer Churn     |    8% |\\n'\n",
      " '| Customer Churn              |    5% |\\n'\n",
      " '| New User Acquisition Cost   |   $43 |')\n"
     ]
    }
   ],
   "source": [
    "formatted_result = chain(report, data_processing_steps)\n",
    "pprint.pprint(formatted_result.content)"
   ]
  },
  {
   "cell_type": "code",
   "execution_count": null,
   "metadata": {},
   "outputs": [],
   "source": []
  }
 ],
 "metadata": {
  "kernelspec": {
   "display_name": ".venv",
   "language": "python",
   "name": "python3"
  },
  "language_info": {
   "codemirror_mode": {
    "name": "ipython",
    "version": 3
   },
   "file_extension": ".py",
   "mimetype": "text/x-python",
   "name": "python",
   "nbconvert_exporter": "python",
   "pygments_lexer": "ipython3",
   "version": "3.12.6"
  }
 },
 "nbformat": 4,
 "nbformat_minor": 2
}
